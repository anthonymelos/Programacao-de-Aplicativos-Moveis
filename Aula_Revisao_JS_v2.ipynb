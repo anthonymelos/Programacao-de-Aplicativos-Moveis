{
 "cells": [
  {
   "cell_type": "markdown",
   "id": "4554c7e6",
   "metadata": {
    "id": "4554c7e6"
   },
   "source": [
    "\n",
    "# Aula de Revisão – Programação para Aplicativos Móveis (JavaScript)\n",
    "\n",
    "---\n",
    "\n",
    "## 📌 Objetivos da Aula\n",
    "- Revisar os principais **conceitos de JavaScript** cobrados na prova.\n",
    "- Trabalhar com **variáveis, operadores, laços de repetição, POO e Git**.\n",
    "- Desenvolver **exemplos práticos** em JavaScript para fixar a teoria.\n"
   ]
  },
  {
   "cell_type": "markdown",
   "id": "0c3b72e2",
   "metadata": {
    "id": "0c3b72e2"
   },
   "source": [
    "\n",
    "## 1. Variáveis e Tipagem Dinâmica\n",
    "\n",
    "Em JavaScript:\n",
    "- `var`, `let` e `const` são usados para criar variáveis.\n",
    "- O tipo é definido **dinamicamente em tempo de execução**.\n",
    "- `let` → variável que pode mudar.  \n",
    "- `const` → valor fixo.  \n",
    "- `var` → evita usar, pois tem escopo problemático.\n",
    "\n",
    "### Exemplo:\n"
   ]
  },
  {
   "cell_type": "code",
   "execution_count": null,
   "id": "44d75bbe",
   "metadata": {
    "colab": {
     "base_uri": "https://localhost:8080/",
     "height": 17
    },
    "executionInfo": {
     "elapsed": 18,
     "status": "ok",
     "timestamp": 1757111212189,
     "user": {
      "displayName": "karython oliveira",
      "userId": "17841634017076177984"
     },
     "user_tz": 180
    },
    "id": "44d75bbe",
    "outputId": "081f8f91-bbcd-49d8-aa2f-bea4b508664d"
   },
   "outputs": [
    {
     "data": {
      "application/javascript": "let nome = \"Maria\";  // string\nconst idade = 20;    // número\nvar ativo = true;    // boolean\nconsole.log(nome, idade, ativo);\n",
      "text/plain": [
       "<IPython.core.display.Javascript object>"
      ]
     },
     "metadata": {},
     "output_type": "display_data"
    }
   ],
   "source": [
    "%%javascript\n",
    "let nome = \"Maria\";  // string\n",
    "const idade = 20;    // número\n",
    "var ativo = true;    // boolean\n",
    "console.log(nome, idade, ativo);\n"
   ]
  },
  {
   "cell_type": "markdown",
   "id": "079e0f24",
   "metadata": {
    "id": "079e0f24"
   },
   "source": [
    "\n",
    "### Questão de Treino\n",
    "Explique a diferença entre `let` e `const` e dê um exemplo em que cada um deve ser usado.\n"
   ]
  },
  {
   "cell_type": "markdown",
   "id": "ca2731a2",
   "metadata": {
    "id": "ca2731a2"
   },
   "source": [
    "\n",
    "## 2. Operadores e Conversão de Tipos\n",
    "\n",
    "JavaScript converte valores automaticamente:\n"
   ]
  },
  {
   "cell_type": "code",
   "execution_count": null,
   "id": "f2a7f036",
   "metadata": {
    "colab": {
     "base_uri": "https://localhost:8080/",
     "height": 17
    },
    "executionInfo": {
     "elapsed": 13,
     "status": "ok",
     "timestamp": 1757111232756,
     "user": {
      "displayName": "karython oliveira",
      "userId": "17841634017076177984"
     },
     "user_tz": 180
    },
    "id": "f2a7f036",
    "outputId": "39c00a4d-9b1d-44c9-ead7-ec1f59773283"
   },
   "outputs": [
    {
     "data": {
      "application/javascript": "console.log(5 + \"7\");   // \"57\" (concatenação)\nconsole.log(5 - \"2\");   // 3   (conversão p/ número)\n",
      "text/plain": [
       "<IPython.core.display.Javascript object>"
      ]
     },
     "metadata": {},
     "output_type": "display_data"
    }
   ],
   "source": [
    "%%javascript\n",
    "console.log(5 + \"7\");   // \"57\" (concatenação)\n",
    "console.log(5 - \"2\");   // 3   (conversão p/ número)\n"
   ]
  },
  {
   "cell_type": "markdown",
   "id": "38a177a0",
   "metadata": {
    "id": "38a177a0"
   },
   "source": [
    "\n",
    "### Questão de Treino\n",
    "Qual será o resultado de:\n",
    "```javascript\n",
    "console.log(\"10\" * 2);\n",
    "```\n"
   ]
  },
  {
   "cell_type": "markdown",
   "id": "cd127dda",
   "metadata": {
    "id": "cd127dda"
   },
   "source": [
    "\n",
    "## 3. Estruturas de Repetição\n",
    "\n",
    "Tipos principais:\n",
    "- `for`\n",
    "- `while`\n",
    "- `for...of`\n",
    "- Métodos como `forEach()`\n",
    "\n",
    "### Exemplo:\n"
   ]
  },
  {
   "cell_type": "code",
   "execution_count": null,
   "id": "6a9f2954",
   "metadata": {
    "id": "6a9f2954"
   },
   "outputs": [],
   "source": [
    "%%javascript\n",
    "let numeros = [1,2,3,4];\n",
    "for (let n of numeros) {\n",
    "  console.log(n);\n",
    "}\n"
   ]
  },
  {
   "cell_type": "markdown",
   "id": "1KoKRpMzBfNv",
   "metadata": {
    "id": "1KoKRpMzBfNv"
   },
   "source": [
    "🔹 O que é\n",
    "\n",
    "forEach() é um método de arrays no JavaScript.\n",
    "\n",
    "Ele recebe uma função callback e executa essa função uma vez para cada elemento do array, na ordem.\n",
    "\n",
    "É muito usado no estilo funcional de programação, quando queremos \"aplicar uma ação\" a cada item.\n",
    "\n",
    "\n",
    "```JavaScript\n",
    "array.forEach(function(elemento, indice, arrayOriginal) {\n",
    "  // código para cada elemento\n",
    "});\n",
    "```  \n",
    "\n",
    "Parâmetros do callback:\n",
    "\n",
    "elemento → valor atual que está sendo processado.\n",
    "\n",
    "índice → posição do elemento no array.\n",
    "\n",
    "arrayOriginal → o próprio array (geralmente pouco usado)."
   ]
  },
  {
   "cell_type": "code",
   "execution_count": null,
   "id": "4-DpdAfUBEuH",
   "metadata": {
    "colab": {
     "base_uri": "https://localhost:8080/",
     "height": 106
    },
    "executionInfo": {
     "elapsed": 50,
     "status": "error",
     "timestamp": 1757111670635,
     "user": {
      "displayName": "karython oliveira",
      "userId": "17841634017076177984"
     },
     "user_tz": 180
    },
    "id": "4-DpdAfUBEuH",
    "outputId": "41ade4cc-48f4-4451-ab16-d8534f3b15d2"
   },
   "outputs": [
    {
     "ename": "SyntaxError",
     "evalue": "invalid syntax (ipython-input-862321827.py, line 1)",
     "output_type": "error",
     "traceback": [
      "\u001b[0;36m  File \u001b[0;32m\"/tmp/ipython-input-862321827.py\"\u001b[0;36m, line \u001b[0;32m1\u001b[0m\n\u001b[0;31m    let numeros = [1, 2, 3];\u001b[0m\n\u001b[0m        ^\u001b[0m\n\u001b[0;31mSyntaxError\u001b[0m\u001b[0;31m:\u001b[0m invalid syntax\n"
     ]
    }
   ],
   "source": [
    "let numeros = [1, 2, 3];\n",
    "numeros.forEach((n, i) => {\n",
    "  console.log(`Índice ${i}: valor ${n}`);\n",
    "});\n"
   ]
  },
  {
   "cell_type": "markdown",
   "id": "5KcaGctTA9sX",
   "metadata": {
    "id": "5KcaGctTA9sX"
   },
   "source": [
    "| Estrutura    | Itera sobre       | Precisa índice? | Pode `break/continue`? | Onde usar                                 |\n",
    "| ------------ | ----------------- | --------------- | ---------------------- | ----------------------------------------- |\n",
    "| **for**      | números / arrays  | Sim (com `i`)   | ✅                      | Controle de índice, loops numéricos       |\n",
    "| **while**    | condição booleana | Não direto      | ✅                      | Quando não sabemos o limite de repetições |\n",
    "| **for...of** | valores iteráveis | Não             | ✅                      | Arrays, strings, sets, mapas              |\n",
    "| **forEach**  | arrays            | Opcional        | ❌                      | Processar cada item de forma funcional    |\n"
   ]
  },
  {
   "cell_type": "markdown",
   "id": "3e429f1d",
   "metadata": {
    "id": "3e429f1d"
   },
   "source": [
    "\n",
    "### Questão de Treino\n",
    "Qual a diferença entre `for...of` e `forEach()`?\n"
   ]
  },
  {
   "cell_type": "markdown",
   "id": "4de2fe07",
   "metadata": {
    "id": "4de2fe07"
   },
   "source": [
    "\n",
    "## 4. Programação Orientada a Objetos\n",
    "\n",
    "Conceitos:\n",
    "- **Classe** → molde de objetos\n",
    "- **Atributos** → características\n",
    "- **Métodos** → comportamentos\n",
    "- **Encapsulamento** → esconder detalhes internos\n",
    "\n",
    "### Exemplo:\n"
   ]
  },
  {
   "cell_type": "code",
   "execution_count": null,
   "id": "9b8080ff",
   "metadata": {
    "id": "9b8080ff"
   },
   "outputs": [],
   "source": [
    "%%javascript\n",
    "class Pessoa {\n",
    "  constructor(nome, idade){\n",
    "    this.nome = nome;\n",
    "    this.idade = idade;\n",
    "  }\n",
    "  apresentar(){\n",
    "    return `Olá, sou ${this.nome} e tenho ${this.idade} anos.`;\n",
    "  }\n",
    "}\n",
    "let p1 = new Pessoa(\"Ana\", 22);\n",
    "console.log(p1.apresentar());\n"
   ]
  },
  {
   "cell_type": "markdown",
   "id": "47068aa4",
   "metadata": {
    "id": "47068aa4"
   },
   "source": [
    "\n",
    "### Questão de Treino\n",
    "O que é **encapsulamento** e como ele pode melhorar a segurança do código?\n"
   ]
  },
  {
   "cell_type": "markdown",
   "id": "9e89674c",
   "metadata": {
    "id": "9e89674c"
   },
   "source": [
    "\n",
    "## 5. Git e Controle de Versão\n",
    "\n",
    "- **Commit** → salvar alterações com mensagem.  \n",
    "- **Branch** → criar uma linha paralela de desenvolvimento.  \n",
    "- **Merge** → unir mudanças de branches.  \n",
    "\n",
    "### Questão de Treino\n",
    "Explique uma situação prática em que seria necessário criar uma *branch*.\n"
   ]
  },
  {
   "cell_type": "markdown",
   "id": "2cf4e694",
   "metadata": {
    "id": "2cf4e694"
   },
   "source": [
    "\n",
    "# 🚀 Sistemas em JavaScript\n",
    "\n",
    "Agora vamos praticar com **2 sistemas simples** diretamente no Colab.\n",
    "\n",
    "---\n",
    "\n",
    "## 🔹 Sistema 1: Lista de Tarefas (To-Do List)\n",
    "Exemplo de manipulação de arrays e DOM.\n"
   ]
  },
  {
   "cell_type": "code",
   "execution_count": null,
   "id": "3544d412",
   "metadata": {
    "id": "3544d412"
   },
   "outputs": [],
   "source": [
    "%%html\n",
    "<!DOCTYPE html>\n",
    "<html>\n",
    "  <body>\n",
    "    <h2>📋 Lista de Tarefas</h2>\n",
    "    <input id=\"tarefa\" placeholder=\"Digite uma tarefa\">\n",
    "    <button onclick=\"adicionar()\">Adicionar</button>\n",
    "    <ul id=\"lista\"></ul>\n",
    "\n",
    "    <script>\n",
    "      function adicionar(){\n",
    "        let tarefa = document.getElementById(\"tarefa\").value;\n",
    "        if(tarefa){\n",
    "          let li = document.createElement(\"li\");\n",
    "          li.textContent = tarefa;\n",
    "          document.getElementById(\"lista\").appendChild(li);\n",
    "          document.getElementById(\"tarefa\").value = \"\";\n",
    "        }\n",
    "      }\n",
    "    </script>\n",
    "  </body>\n",
    "</html>\n"
   ]
  },
  {
   "cell_type": "markdown",
   "id": "e0dc0870",
   "metadata": {
    "id": "e0dc0870"
   },
   "source": [
    "\n",
    "---\n",
    "\n",
    "## 🔹 Sistema 2: Calculadora Simples\n",
    "Exemplo de funções e eventos em JavaScript.\n"
   ]
  },
  {
   "cell_type": "code",
   "execution_count": null,
   "id": "e79530b8",
   "metadata": {
    "id": "e79530b8"
   },
   "outputs": [],
   "source": [
    "%%html\n",
    "<!DOCTYPE html>\n",
    "<html>\n",
    "  <body>\n",
    "    <h2>🧮 Calculadora</h2>\n",
    "    <input id=\"n1\" type=\"number\" placeholder=\"Número 1\">\n",
    "    <input id=\"n2\" type=\"number\" placeholder=\"Número 2\">\n",
    "    <button onclick=\"somar()\">Somar</button>\n",
    "    <p id=\"resultado\"></p>\n",
    "\n",
    "    <script>\n",
    "      function somar(){\n",
    "        let n1 = parseFloat(document.getElementById(\"n1\").value);\n",
    "        let n2 = parseFloat(document.getElementById(\"n2\").value);\n",
    "        document.getElementById(\"resultado\").innerText = \"Resultado: \" + (n1+n2);\n",
    "      }\n",
    "    </script>\n",
    "  </body>\n",
    "</html>\n"
   ]
  },
  {
   "cell_type": "markdown",
   "id": "cab75a77",
   "metadata": {
    "id": "cab75a77"
   },
   "source": [
    "\n",
    "# ✅ Conclusão\n",
    "- Revimos variáveis, operadores, loops, POO e Git.\n",
    "- Fizemos questões de treino para fixar conceitos.\n",
    "- Construímos **2 sistemas práticos em JS**:\n",
    "  - Lista de Tarefas\n",
    "  - Calculadora Simples\n"
   ]
  }
 ],
 "metadata": {
  "colab": {
   "provenance": []
  },
  "kernelspec": {
   "display_name": "Python 3",
   "name": "python3"
  },
  "language_info": {
   "name": "python"
  }
 },
 "nbformat": 4,
 "nbformat_minor": 5
}
